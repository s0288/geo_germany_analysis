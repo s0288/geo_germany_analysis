{
 "cells": [
  {
   "cell_type": "markdown",
   "id": "3f7f9932-de82-4558-8901-2a6db8403a5c",
   "metadata": {},
   "source": [
    "Find geo polygons that contain geo points. Geo polygons are 100m grid on national level from https://www.breitband-monitor.de/mobilfunkmonitoring/download "
   ]
  },
  {
   "cell_type": "code",
   "execution_count": 1,
   "id": "2a5a6435-5981-42e7-8ede-582adecfa210",
   "metadata": {},
   "outputs": [],
   "source": [
    "# import sys\n",
    "# !{sys.executable} -m pip install odfpy"
   ]
  },
  {
   "cell_type": "code",
   "execution_count": 6,
   "id": "79f4fc39-99bb-4993-a658-ec516a4afbf4",
   "metadata": {},
   "outputs": [],
   "source": [
    "import pandas as pd\n",
    "from path import Path\n",
    "from pyproj import Transformer\n",
    "import fiona\n",
    "from shapely.geometry import Point\n",
    "from shapely.geometry.polygon import Polygon\n",
    "import timeit\n",
    "\n",
    "DIR_DATA = Path(\"./data/\")\n",
    "DIR_RESULTS = Path(\"./results/\")"
   ]
  },
  {
   "cell_type": "code",
   "execution_count": 7,
   "id": "71d57212-7a8d-4fba-b651-405c19019b7a",
   "metadata": {},
   "outputs": [],
   "source": [
    "df_ent = pd.read_excel(DIR_DATA / \"landkarte_entities.ods\")\n",
    "df_ent = df_ent[~df_ent[\"POLYGON\"].str.contains(\"100m\")] # to save time\n",
    "latlon_agencies = [[row[1][\"LATITUDE\"], row[1][\"LONGITUDE\"]] for row in df_ent.iterrows()]"
   ]
  },
  {
   "cell_type": "code",
   "execution_count": 2,
   "id": "0d9e3cb2-99e4-4726-bce0-5ed1f9be27c9",
   "metadata": {
    "tags": []
   },
   "outputs": [],
   "source": [
    "## unzip the file\n",
    "# from zipfile import ZipFile\n",
    "\n",
    "# with ZipFile(\n",
    "#         DIR_DATA / 'DE_Grid_ETRS89-UTM32_100m.gpkg.zip'\n",
    "#      , 'r') as zip:\n",
    "#     zip.extractall(DIR_DATA)\n",
    "\n",
    "# find which polygon contains agencies\n",
    "starttime = timeit.default_timer()\n",
    "file_name = (DIR_DATA / 'DE_Grid_ETRS89-UTM32_100m' / \n",
    "             'geogitter' / 'DE_Grid_ETRS89-UTM32_100m.gpkg')\n",
    "transformer = Transformer.from_crs(\"EPSG:25832\", \"EPSG:4326\")\n",
    "\n",
    "cnt = 0\n",
    "with fiona.open(file_name) as layer:\n",
    "    for feature in layer:\n",
    "        cnt=cnt+1\n",
    "        polygon = Polygon([transformer.transform(row[0], row[1]) for row in feature[\"geometry\"][\"coordinates\"][0]])\n",
    "        for num, latlon_agency in enumerate(latlon_agencies):\n",
    "            point = Point(latlon_agency[0], latlon_agency[1])        \n",
    "            if polygon.contains(point):\n",
    "                print(f\"{latlon_agency}: {feature['properties']['id']} (cnt={cnt})\")\n",
    "                latlon_agencies.pop(num) # remove already retrieved agencies\n",
    "        if cnt%500000==0:\n",
    "            print(f\"cnt={cnt:,}. The time difference is :\", timeit.default_timer() - starttime)"
   ]
  },
  {
   "cell_type": "markdown",
   "id": "d373adfa-4821-4147-81e9-ef291d24176d",
   "metadata": {},
   "source": [
    "copy-paste results into data excel"
   ]
  },
  {
   "cell_type": "code",
   "execution_count": 44,
   "id": "c364f927-3c42-4ec9-b9d9-6aff982813c1",
   "metadata": {},
   "outputs": [
    {
     "name": "stdout",
     "output_type": "stream",
     "text": [
      "The time difference is : 43.82929362199502\n"
     ]
    }
   ],
   "source": [
    "# write results file\n",
    "starttime = timeit.default_timer()\n",
    "\n",
    "df_ent = pd.read_excel(DIR_DATA / \"20210806_Recruiting-Landkarte_Agenturstruktur_Mitarbeiter.ods\")\n",
    "csv_reader = pd.read_csv(DIR_DATA / \"202110_MobilfunkMonitoring.zip\", iterator=True, chunksize=500000)\n",
    "\n",
    "first_chunk = csv_reader.get_chunk()\n",
    "df = df_ent.merge(first_chunk, how=\"inner\", left_on=\"POLYGON\", right_on=\"id\")\n",
    "first_id = csv_reader.get_chunk().iloc[0,0]\n",
    "\n",
    "for chunk in csv_reader:\n",
    "    if chunk.iloc[0,0]==first_id:\n",
    "        continue\n",
    "    df = df.append(df_ent.merge(chunk, how=\"inner\", left_on=\"POLYGON\", right_on=\"id\"))\n",
    "print(f\"The time difference is :\", timeit.default_timer() - starttime)\n",
    "df.to_csv(DIR_RESULTS / \"df_ent.csv\", sep=\";\")"
   ]
  },
  {
   "cell_type": "code",
   "execution_count": null,
   "id": "50813a74-850b-4d63-9505-78a14d1489e6",
   "metadata": {},
   "outputs": [],
   "source": []
  }
 ],
 "metadata": {
  "kernelspec": {
   "display_name": "Python [conda env:.conda-axa_geo]",
   "language": "python",
   "name": "conda-env-.conda-axa_geo-py"
  },
  "language_info": {
   "codemirror_mode": {
    "name": "ipython",
    "version": 3
   },
   "file_extension": ".py",
   "mimetype": "text/x-python",
   "name": "python",
   "nbconvert_exporter": "python",
   "pygments_lexer": "ipython3",
   "version": "3.9.7"
  }
 },
 "nbformat": 4,
 "nbformat_minor": 5
}
